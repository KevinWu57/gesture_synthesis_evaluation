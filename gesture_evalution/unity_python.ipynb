{
 "metadata": {
  "language_info": {
   "codemirror_mode": {
    "name": "ipython",
    "version": 3
   },
   "file_extension": ".py",
   "mimetype": "text/x-python",
   "name": "python",
   "nbconvert_exporter": "python",
   "pygments_lexer": "ipython3",
   "version": "3.6.9"
  },
  "orig_nbformat": 2,
  "kernelspec": {
   "name": "python369jvsc74a57bd04991f4ad8b5010d7902d5b1ad42494966e6e21e374158671aac86fc629e06e0d",
   "display_name": "Python 3.6.9 64-bit ('gesthor_env': venv)"
  }
 },
 "nbformat": 4,
 "nbformat_minor": 2,
 "cells": [
  {
   "cell_type": "code",
   "execution_count": 14,
   "metadata": {},
   "outputs": [],
   "source": [
    "import glob\n",
    "import os"
   ]
  },
  {
   "cell_type": "code",
   "execution_count": 2,
   "metadata": {},
   "outputs": [],
   "source": [
    "class UdpComms():\n",
    "    def __init__(self,udpIP,portTX,portRX,enableRX=False,suppressWarnings=True):\n",
    "        \"\"\"\n",
    "        Constructor\n",
    "        :param udpIP: Must be string e.g. \"127.0.0.1\"\n",
    "        :param portTX: integer number e.g. 8000. Port to transmit from i.e From Python to other application\n",
    "        :param portRX: integer number e.g. 8001. Port to receive on i.e. From other application to Python\n",
    "        :param enableRX: When False you may only send from Python and not receive. If set to True a thread is created to enable receiving of data\n",
    "        :param suppressWarnings: Stop printing warnings if not connected to other application\n",
    "        \"\"\"\n",
    "\n",
    "        import socket\n",
    "\n",
    "        self.udpIP = udpIP\n",
    "        self.udpSendPort = portTX\n",
    "        self.udpRcvPort = portRX\n",
    "        self.enableRX = enableRX\n",
    "        self.suppressWarnings = suppressWarnings # when true warnings are suppressed\n",
    "        self.isDataReceived = False\n",
    "        self.dataRX = None\n",
    "\n",
    "        # Connect via UDP\n",
    "        self.udpSock = socket.socket(socket.AF_INET, socket.SOCK_DGRAM) # internet protocol, udp (DGRAM) socket\n",
    "        self.udpSock.setsockopt(socket.SOL_SOCKET, socket.SO_REUSEADDR, 1) # allows the address/port to be reused immediately instead of it being stuck in the TIME_WAIT state waiting for late packets to arrive.\n",
    "        self.udpSock.bind((udpIP, portRX))\n",
    "\n",
    "        # Create Receiving thread if required\n",
    "        if enableRX:\n",
    "            import threading\n",
    "            self.rxThread = threading.Thread(target=self.ReadUdpThreadFunc, daemon=True)\n",
    "            self.rxThread.start()\n",
    "\n",
    "    def __del__(self):\n",
    "        self.CloseSocket()\n",
    "\n",
    "    def CloseSocket(self):\n",
    "        # Function to close socket\n",
    "        self.udpSock.close()\n",
    "\n",
    "    def SendData(self, strToSend):\n",
    "        # Use this function to send string to C#\n",
    "        self.udpSock.sendto(bytes(strToSend,'utf-8'), (self.udpIP, self.udpSendPort))\n",
    "\n",
    "    def ReceiveData(self):\n",
    "        \"\"\"\n",
    "        Should not be called by user\n",
    "        Function BLOCKS until data is returned from C#. It then attempts to convert it to string and returns on successful conversion.\n",
    "        An warning/error is raised if:\n",
    "            - Warning: Not connected to C# application yet. Warning can be suppressed by setting suppressWarning=True in constructor\n",
    "            - Error: If data receiving procedure or conversion to string goes wrong\n",
    "            - Error: If user attempts to use this without enabling RX\n",
    "        :return: returns None on failure or the received string on success\n",
    "        \"\"\"\n",
    "        if not self.enableRX: # if RX is not enabled, raise error\n",
    "            raise ValueError(\"Attempting to receive data without enabling this setting. Ensure this is enabled from the constructor\")\n",
    "\n",
    "        data = None\n",
    "        try:\n",
    "            data, _ = self.udpSock.recvfrom(1024)\n",
    "            data = data.decode('utf-8')\n",
    "        except WindowsError as e:\n",
    "            if e.winerror == 10054: # An error occurs if you try to receive before connecting to other application\n",
    "                if not self.suppressWarnings:\n",
    "                    print(\"Are You connected to the other application? Connect to it!\")\n",
    "                else:\n",
    "                    pass\n",
    "            else:\n",
    "                raise ValueError(\"Unexpected Error. Are you sure that the received data can be converted to a string\")\n",
    "\n",
    "        return data\n",
    "\n",
    "    def ReadUdpThreadFunc(self): # Should be called from thread\n",
    "        \"\"\"\n",
    "        This function should be called from a thread [Done automatically via constructor]\n",
    "                (import threading -> e.g. udpReceiveThread = threading.Thread(target=self.ReadUdpNonBlocking, daemon=True))\n",
    "        This function keeps looping through the BLOCKING ReceiveData function and sets self.dataRX when data is received and sets received flag\n",
    "        This function runs in the background and updates class variables to read data later\n",
    "\n",
    "        \"\"\"\n",
    "\n",
    "        self.isDataReceived = False # Initially nothing received\n",
    "\n",
    "        while True:\n",
    "            data = self.ReceiveData()  # Blocks (in thread) until data is returned (OR MAYBE UNTIL SOME TIMEOUT AS WELL)\n",
    "            self.dataRX = data # Populate AFTER new data is received\n",
    "            self.isDataReceived = True\n",
    "            # When it reaches here, data received is available\n",
    "\n",
    "    def ReadReceivedData(self):\n",
    "        \"\"\"\n",
    "        This is the function that should be used to read received data\n",
    "        Checks if data has been received SINCE LAST CALL, if so it returns the received string and sets flag to False (to avoid re-reading received data)\n",
    "        data is None if nothing has been received\n",
    "        :return:\n",
    "        \"\"\"\n",
    "\n",
    "        data = None\n",
    "\n",
    "        if self.isDataReceived: # if data has been received\n",
    "            self.isDataReceived = False\n",
    "            data = self.dataRX\n",
    "            self.dataRX = None # Empty receive buffer\n",
    "\n",
    "        return data"
   ]
  },
  {
   "cell_type": "code",
   "execution_count": 3,
   "metadata": {},
   "outputs": [],
   "source": [
    "def CalculateGestureAccuracy(metadata_file:str, motion_file:str) -> float:\n",
    "    \"\"\"\n",
    "    Calculate the current gesture accuracy\n",
    "    You should provide both the metadata file (ended with .json) and the motion file (ended with .csv)\n",
    "    Start Unity before calling this function.\n",
    "    \"\"\"\n",
    "    \n",
    "    # Send both the file names to Unity\n",
    "    sock.SendData(metadata_file + ' ' + motion_file)\n",
    "    \n",
    "    # Wait for the response from Unity\n",
    "    while True:\n",
    "        data = sock.ReadReceivedData() # read data\n",
    "        if data != None:\n",
    "            return float(data)"
   ]
  },
  {
   "cell_type": "code",
   "execution_count": 4,
   "metadata": {},
   "outputs": [],
   "source": [
    "# Open the socket for the communication\n",
    "sock = UdpComms(udpIP=\"127.0.0.1\", portTX=8000, portRX=8001, enableRX=True, suppressWarnings=True)"
   ]
  },
  {
   "cell_type": "code",
   "execution_count": 23,
   "metadata": {},
   "outputs": [
    {
     "output_type": "stream",
     "name": "stdout",
     "text": [
      "Message received from Python is: Hey Mom!\n"
     ]
    }
   ],
   "source": [
    "# Waiting for the response from Unity for debug purpose\n",
    "# Run this block and open \n",
    "while True:\n",
    "    data = sock.ReadReceivedData() # read data\n",
    "    if data != None:\n",
    "        print(f\"Message received from Python is: {data}\")\n",
    "        break"
   ]
  },
  {
   "cell_type": "code",
   "execution_count": 26,
   "metadata": {},
   "outputs": [
    {
     "output_type": "execute_result",
     "data": {
      "text/plain": [
       "0.0"
      ]
     },
     "metadata": {},
     "execution_count": 26
    }
   ],
   "source": [
    "### Example use ###\n",
    "\n",
    "# Get all metadata files and motion files\n",
    "json_files = glob.glob(f\"{os.getcwd()}/recordings_referencing_right/test/summaries/*.json\")\n",
    "motion_files = glob.glob(f\"{os.getcwd()}/recordings_referencing_right/test/motions/*.csv\")\n",
    "\n",
    "# The accuracy for the first motion will be printed output\n",
    "CalculateGestureAccuracy(json_files[5], motion_files[5])"
   ]
  },
  {
   "cell_type": "code",
   "execution_count": null,
   "metadata": {},
   "outputs": [],
   "source": []
  }
 ]
}